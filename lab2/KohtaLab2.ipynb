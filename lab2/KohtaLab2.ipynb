{
 "cells": [
  {
   "metadata": {},
   "cell_type": "markdown",
   "source": "ЛАБОРАТОРНА РОБОТА №2",
   "id": "b84efa39f5faf482"
  },
  {
   "metadata": {},
   "cell_type": "markdown",
   "source": "ФБ-35 Кохта Андрій",
   "id": "5e695ffebe8f4898"
  },
  {
   "metadata": {},
   "cell_type": "markdown",
   "source": [
    "Мета роботи: ознайомитися з основними кроками по роботі з даними – workflow\n",
    "від постановки задачі до написання пояснювальної записки, зрозуміти постановку задачі\n",
    "та природу даних, над якими виконується аналітичні операції"
   ],
   "id": "e9e328636ada1b50"
  },
  {
   "metadata": {
    "ExecuteTime": {
     "end_time": "2025-03-14T10:49:44.445885Z",
     "start_time": "2025-03-14T10:49:43.403669Z"
    }
   },
   "cell_type": "code",
   "source": [
    "import urllib.request\n",
    "import pandas as pd\n",
    "from datetime import datetime\n",
    "import os\n",
    "import re"
   ],
   "id": "ab50d4b379b1a68",
   "outputs": [],
   "execution_count": 1
  },
  {
   "metadata": {},
   "cell_type": "markdown",
   "source": [
    "Для кожної із адміністративних одиниць України завантажити тестові\n",
    "структуровані файли, що містять значення VHI-індексу. Ця процедура має бути\n",
    "автоматизована, параметром процедури має бути індекс (номер) області. При\n",
    "зберіганні файлу до його імені потрібно додати дату та час завантаження.\n",
    "\n",
    "Передбачити повторні запуски скрипту, довантаження нових даних та колізію\n",
    "даних;"
   ],
   "id": "abacbd69866db940"
  },
  {
   "metadata": {
    "ExecuteTime": {
     "end_time": "2025-03-14T10:50:17.533422Z",
     "start_time": "2025-03-14T10:50:17.526451Z"
    }
   },
   "cell_type": "code",
   "source": [
    "directory = './forlab2/'\n",
    "all_files = {}\n",
    "new_index = {1: 24, 2: 26, 3: 25, 4: 27, 5: 3, 6: 4, 7: 8, 8: 21, 9: 22,\n",
    "10: 23, 11: 10, 12: 9, 13: 11, 14: 12, 15: 13, 16: 14, 17: 15, 18: 16,\n",
    "19: 17, 20: 18, 21: 19, 22: 20, 23: 6, 24: 1, 25: 2, 26: 7, 27: 5}"
   ],
   "id": "b1c754b336998591",
   "outputs": [],
   "execution_count": 2
  },
  {
   "metadata": {
    "ExecuteTime": {
     "end_time": "2025-03-14T10:50:19.005465Z",
     "start_time": "2025-03-14T10:50:19.001165Z"
    }
   },
   "cell_type": "code",
   "source": [
    "def clean_data(data):\n",
    "    text = data.decode('utf-8', errors='ignore')\n",
    "    text = re.sub(r'<tt><pre>', '', text)\n",
    "    text = re.sub(r'<[^>]+>', '', text)\n",
    "    return text.encode('utf-8')"
   ],
   "id": "de5d19fdbcda7e49",
   "outputs": [],
   "execution_count": 3
  },
  {
   "metadata": {
    "ExecuteTime": {
     "end_time": "2025-03-14T10:50:32.056120Z",
     "start_time": "2025-03-14T10:50:32.050391Z"
    }
   },
   "cell_type": "code",
   "source": [
    "def file_download(url, index, new_i):\n",
    "    vhi_url = urllib.request.urlopen(url)\n",
    "    now = datetime.now()\n",
    "    current_time = now.strftime(\"%d_%m_%Y_%H-%M-%S\")\n",
    "    file_name = f\"vhi_id_{index}_time_{current_time}.csv\"\n",
    "    file_path = f\"{directory}{file_name}\"\n",
    "    exists = [True for file in os.listdir(directory) if f\"id_{new_i}_\" in file]\n",
    "\n",
    "    if not exists:\n",
    "        out = open(file_path, 'wb')\n",
    "        cleaned = clean_data(vhi_url.read())\n",
    "        out.write(cleaned)\n",
    "        out.close()\n",
    "        new_name = f\"vhi_id_{new_i}_time_{current_time}.csv\"\n",
    "        new_path = f\"{directory}{new_name}\"\n",
    "        os.rename(file_path, new_path)\n",
    "        all_files[new_i] = new_name\n",
    "        print(f\"VHI: {new_name} is downloaded.. ({index})\")\n",
    "    else:\n",
    "        print(f\"File with id:{new_i} already exists.. ({index})\")"
   ],
   "id": "5eb5197ce96c7381",
   "outputs": [],
   "execution_count": 5
  },
  {
   "metadata": {
    "ExecuteTime": {
     "end_time": "2025-03-14T10:51:13.672369Z",
     "start_time": "2025-03-14T10:50:34.624459Z"
    }
   },
   "cell_type": "code",
   "source": [
    "for key, value in new_index.items():\n",
    "    file_download(f\"https://www.star.nesdis.noaa.gov/smcd/emb/vci/VH/get_TS_admin.php?country=UKR&provinceID={key}&year1=1981&year2=2024&type=Mean\", key, value)\n",
    "print(\"<---End for--->\")"
   ],
   "id": "e6cb7c9e19f5c9ac",
   "outputs": [
    {
     "name": "stdout",
     "output_type": "stream",
     "text": [
      "VHI: vhi_id_24_time_14_03_2025_12-50-36.csv is downloaded.. (1)\n",
      "VHI: vhi_id_26_time_14_03_2025_12-50-38.csv is downloaded.. (2)\n",
      "VHI: vhi_id_25_time_14_03_2025_12-50-39.csv is downloaded.. (3)\n",
      "VHI: vhi_id_27_time_14_03_2025_12-50-41.csv is downloaded.. (4)\n",
      "VHI: vhi_id_3_time_14_03_2025_12-50-42.csv is downloaded.. (5)\n",
      "VHI: vhi_id_4_time_14_03_2025_12-50-43.csv is downloaded.. (6)\n",
      "VHI: vhi_id_8_time_14_03_2025_12-50-45.csv is downloaded.. (7)\n",
      "VHI: vhi_id_21_time_14_03_2025_12-50-46.csv is downloaded.. (8)\n",
      "VHI: vhi_id_22_time_14_03_2025_12-50-48.csv is downloaded.. (9)\n",
      "VHI: vhi_id_23_time_14_03_2025_12-50-49.csv is downloaded.. (10)\n",
      "VHI: vhi_id_10_time_14_03_2025_12-50-51.csv is downloaded.. (11)\n",
      "VHI: vhi_id_9_time_14_03_2025_12-50-52.csv is downloaded.. (12)\n",
      "VHI: vhi_id_11_time_14_03_2025_12-50-53.csv is downloaded.. (13)\n",
      "VHI: vhi_id_12_time_14_03_2025_12-50-55.csv is downloaded.. (14)\n",
      "VHI: vhi_id_13_time_14_03_2025_12-50-56.csv is downloaded.. (15)\n",
      "VHI: vhi_id_14_time_14_03_2025_12-50-57.csv is downloaded.. (16)\n",
      "VHI: vhi_id_15_time_14_03_2025_12-50-59.csv is downloaded.. (17)\n",
      "VHI: vhi_id_16_time_14_03_2025_12-51-00.csv is downloaded.. (18)\n",
      "VHI: vhi_id_17_time_14_03_2025_12-51-01.csv is downloaded.. (19)\n",
      "VHI: vhi_id_18_time_14_03_2025_12-51-03.csv is downloaded.. (20)\n",
      "VHI: vhi_id_19_time_14_03_2025_12-51-04.csv is downloaded.. (21)\n",
      "VHI: vhi_id_20_time_14_03_2025_12-51-06.csv is downloaded.. (22)\n",
      "VHI: vhi_id_6_time_14_03_2025_12-51-07.csv is downloaded.. (23)\n",
      "VHI: vhi_id_1_time_14_03_2025_12-51-09.csv is downloaded.. (24)\n",
      "VHI: vhi_id_2_time_14_03_2025_12-51-10.csv is downloaded.. (25)\n",
      "VHI: vhi_id_7_time_14_03_2025_12-51-11.csv is downloaded.. (26)\n",
      "VHI: vhi_id_5_time_14_03_2025_12-51-13.csv is downloaded.. (27)\n",
      "<---End for--->\n"
     ]
    }
   ],
   "execution_count": 6
  },
  {
   "metadata": {},
   "cell_type": "markdown",
   "source": [
    "Зчитати завантажені текстові файли у фрейм\n",
    "(https://pandas.pydata.org/docs/reference/api/pandas.DataFrame.html) (детальніше\n",
    "про роботу із фреймами буде розказано у подальших лабораторних роботах).\n",
    "Імена стовбців фрейму мають бути змістовними та легкими для сприйняття (не\n",
    "повинно бути спеціалізованих символів, пробілів тощо). Ця задача має бути\n",
    "реалізована у вигляді окремої процедури, яка на вхід приймає шлях до\n",
    "директорії, в якій зберігаються файли;"
   ],
   "id": "97d032a0c3ced354"
  },
  {
   "metadata": {
    "ExecuteTime": {
     "end_time": "2025-03-14T10:51:21.668234Z",
     "start_time": "2025-03-14T10:51:21.662296Z"
    }
   },
   "cell_type": "code",
   "source": [
    "def read_data():\n",
    "    headers = ['Year', 'Week', 'SMN', 'SMT', 'VCI', 'TCI', 'VHI', 'Region']\n",
    "    all_dataframes = []\n",
    "\n",
    "    for region_id, file_name in all_files.items():\n",
    "        try:\n",
    "            file_path = f\"{directory}{file_name}\"\n",
    "            data_frame = pd.read_csv(file_path, names=headers)\n",
    "            data_frame = data_frame[data_frame['VHI'] != -1]\n",
    "\n",
    "            try:\n",
    "                data_frame = data_frame[data_frame['Year'].astype(str).str.isdigit()]\n",
    "                data_frame['Region'] = region_id\n",
    "                all_dataframes.append(data_frame)\n",
    "            except ValueError:\n",
    "                print(f\"Incorrect input in: {file_name} \")\n",
    "\n",
    "        except Exception as error:\n",
    "            print(f\"Error during operation with file: {file_name}, {error}\")\n",
    "            continue\n",
    "\n",
    "    data_line = pd.concat(all_dataframes, ignore_index=True)\n",
    "    data_line['Year'] = data_line['Year'].astype(int)\n",
    "    data_line['Region'] = data_line['Region'].astype(int)\n",
    "\n",
    "    return data_line"
   ],
   "id": "f411965fdd7b5d85",
   "outputs": [],
   "execution_count": 8
  },
  {
   "metadata": {
    "ExecuteTime": {
     "end_time": "2025-03-14T10:51:23.780593Z",
     "start_time": "2025-03-14T10:51:23.553618Z"
    }
   },
   "cell_type": "code",
   "source": [
    "vhi_data = read_data()\n",
    "\n",
    "print(vhi_data.head(), '\\n', vhi_data.tail())"
   ],
   "id": "801b351c1e1f980a",
   "outputs": [
    {
     "name": "stdout",
     "output_type": "stream",
     "text": [
      "   Year Week     SMN     SMT     VCI     TCI     VHI  Region\n",
      "0  1982    1   0.053  260.31   45.01   39.46   42.23      24\n",
      "1  1982    2   0.054  262.29   46.83   31.75   39.29      24\n",
      "2  1982    3   0.055  263.82   48.13   27.24   37.68      24\n",
      "3  1982    4   0.053  265.33   46.09   23.91   35.00      24\n",
      "4  1982    5   0.050  265.66   41.46   26.65   34.06      24 \n",
      "        Year Week     SMN     SMT     VCI     TCI     VHI  Region\n",
      "60367  2024   48   0.128  270.55   64.97   25.53   45.25       5\n",
      "60368  2024   49   0.115  269.06   60.12   27.24   43.68       5\n",
      "60369  2024   50   0.104  267.75   55.24   25.89   40.57       5\n",
      "60370  2024   51   0.094  266.45   51.16   24.29   37.72       5\n",
      "60371  2024   52   0.093  266.38   54.22   21.11   37.66       5\n"
     ]
    }
   ],
   "execution_count": 9
  },
  {
   "metadata": {},
   "cell_type": "markdown",
   "source": [
    "Реалізувати окрему процедуру, яка змінить індекси областей, які використані на\n",
    "порталі NOAA (за англійською абеткою) на наступні, за українською (виключно\n",
    "старі індекси на нові)"
   ],
   "id": "59db522b77f5984d"
  },
  {
   "metadata": {
    "ExecuteTime": {
     "end_time": "2025-03-14T10:51:39.174256Z",
     "start_time": "2025-03-14T10:51:39.084642Z"
    }
   },
   "cell_type": "code",
   "source": [
    "vhi_data['Region'] = vhi_data['Region'].replace({\n",
    "    1: 'Vinnytsya', 2: 'Volyn', 3: \"Dnipropetrovs'k\", 4: \"Donets'k\", 5: 'Zhytomyr', 6: 'Transcarpathia', 7: 'Zaporizhzhya', 8: \"Ivano-Frankivs'k\", 9: 'Kiev City',\n",
    "    10: 'Kiev', 11: 'Kirovohrad', 12: \"Luhans'k\", 13: \"L'viv\", 14: 'Mykolayiv', 15: 'Odessa', 16: 'Poltava', 17: 'Rivne', 18: \"Sevastopol'\",\n",
    "    19: 'Sumy', 20: \"Ternopil'\", 21: 'Kharkiv', 22: 'Kherson', 23: \"Khmel'nyts'kyy\", 24: 'Cherkasy', 25: 'Chernivtsi', 26: 'Chernihiv', 27: 'Crimea',\n",
    "})"
   ],
   "id": "a67a4907f904554c",
   "outputs": [],
   "execution_count": 10
  },
  {
   "metadata": {
    "ExecuteTime": {
     "end_time": "2025-03-14T10:51:41.913647Z",
     "start_time": "2025-03-14T10:51:41.905217Z"
    }
   },
   "cell_type": "code",
   "source": [
    "# print(vhi_data['Region'].value_counts())\n",
    "print(vhi_data.head(), '\\n', vhi_data.tail())"
   ],
   "id": "72c3411374abc21c",
   "outputs": [
    {
     "name": "stdout",
     "output_type": "stream",
     "text": [
      "   Year Week     SMN     SMT     VCI     TCI     VHI    Region\n",
      "0  1982    1   0.053  260.31   45.01   39.46   42.23  Cherkasy\n",
      "1  1982    2   0.054  262.29   46.83   31.75   39.29  Cherkasy\n",
      "2  1982    3   0.055  263.82   48.13   27.24   37.68  Cherkasy\n",
      "3  1982    4   0.053  265.33   46.09   23.91   35.00  Cherkasy\n",
      "4  1982    5   0.050  265.66   41.46   26.65   34.06  Cherkasy \n",
      "        Year Week     SMN     SMT     VCI     TCI     VHI    Region\n",
      "60367  2024   48   0.128  270.55   64.97   25.53   45.25  Zhytomyr\n",
      "60368  2024   49   0.115  269.06   60.12   27.24   43.68  Zhytomyr\n",
      "60369  2024   50   0.104  267.75   55.24   25.89   40.57  Zhytomyr\n",
      "60370  2024   51   0.094  266.45   51.16   24.29   37.72  Zhytomyr\n",
      "60371  2024   52   0.093  266.38   54.22   21.11   37.66  Zhytomyr\n"
     ]
    }
   ],
   "execution_count": 11
  },
  {
   "metadata": {},
   "cell_type": "markdown",
   "source": [
    "Реалізувати процедури для формування вибірок наступного виду\n",
    "(включаючи елементи аналізу):"
   ],
   "id": "d69f60979f564539"
  },
  {
   "metadata": {},
   "cell_type": "markdown",
   "source": "o Ряд VHI для області за вказаний рік;",
   "id": "70c24d93bb55284f"
  },
  {
   "metadata": {
    "ExecuteTime": {
     "end_time": "2025-03-14T10:51:56.567438Z",
     "start_time": "2025-03-14T10:51:56.552070Z"
    }
   },
   "cell_type": "code",
   "source": [
    "def area_year(data, region, year):\n",
    "    data_line = data[(data[\"Region\"] == region) & (data[\"Year\"] == year)]\n",
    "    return data_line\n",
    "\n",
    "print(area_year(vhi_data, 'Kiev', 2024))"
   ],
   "id": "983762ae67e01d6c",
   "outputs": [
    {
     "name": "stdout",
     "output_type": "stream",
     "text": [
      "       Year Week     SMN     SMT     VCI     TCI     VHI Region\n",
      "24544  2024    1   0.060  258.78   36.98   47.72   42.35   Kiev\n",
      "24545  2024    2   0.059  258.08   37.79   49.41   43.60   Kiev\n",
      "24546  2024    3   0.064  258.42   43.74   48.44   46.08   Kiev\n",
      "24547  2024    4   0.069  259.32   48.87   47.45   48.15   Kiev\n",
      "24548  2024    5   0.076  261.74   52.27   43.73   47.99   Kiev\n",
      "24549  2024    6   0.086  265.18   55.60   37.16   46.37   Kiev\n",
      "24550  2024    7   0.105  269.40   61.75   26.61   44.15   Kiev\n",
      "24551  2024    8   0.124  273.07   66.99   18.77   42.85   Kiev\n",
      "24552  2024    9   0.146  276.26   72.42   13.59   43.00   Kiev\n",
      "24553  2024   10   0.161  278.79   72.94   12.70   42.82   Kiev\n",
      "24554  2024   11   0.175  280.71   71.83   13.15   42.49   Kiev\n",
      "24555  2024   12   0.194  283.41   73.64   11.74   42.68   Kiev\n",
      "24556  2024   13   0.210  285.52   74.58   11.49   43.04   Kiev\n",
      "24557  2024   14   0.228  287.12   73.95   12.33   43.14   Kiev\n",
      "24558  2024   15   0.253  289.27   74.70   11.90   43.30   Kiev\n",
      "24559  2024   16   0.282  291.44   74.49   13.67   44.09   Kiev\n",
      "24560  2024   17   0.313  292.86   73.60   19.36   46.49   Kiev\n",
      "24561  2024   18   0.342  293.74   71.40   27.61   49.53   Kiev\n",
      "24562  2024   19   0.368  294.76   68.47   31.59   50.03   Kiev\n",
      "24563  2024   20   0.391  295.42   64.36   36.74   50.57   Kiev\n",
      "24564  2024   21   0.408  295.77   60.68   41.29   50.99   Kiev\n",
      "24565  2024   22   0.421  295.71   57.37   45.49   51.44   Kiev\n",
      "24566  2024   23   0.448  296.94   65.95   36.22   51.09   Kiev\n",
      "24567  2024   24   0.464  297.11   71.40   36.32   53.87   Kiev\n",
      "24568  2024   25   0.479  297.69   78.69   32.09   55.40   Kiev\n",
      "24569  2024   26   0.485  298.16   81.09   27.60   54.35   Kiev\n",
      "24570  2024   27   0.485  298.49   81.41   25.95   53.68   Kiev\n",
      "24571  2024   28   0.482  298.81   81.84   24.48   53.16   Kiev\n",
      "24572  2024   29   0.475  298.86   80.81   26.03   53.42   Kiev\n",
      "24573  2024   30   0.466  298.74   79.61   30.38   54.99   Kiev\n",
      "24574  2024   31   0.455  298.66   77.31   31.42   54.37   Kiev\n",
      "24575  2024   32   0.441  298.75   74.40   27.83   51.12   Kiev\n",
      "24576  2024   33   0.425  298.85   70.83   20.33   45.58   Kiev\n",
      "24577  2024   34   0.404  298.53   65.69   13.60   39.64   Kiev\n",
      "24578  2024   35   0.380  297.74   61.90    8.75   35.33   Kiev\n",
      "24579  2024   36   0.359  296.67   61.10    5.96   33.54   Kiev\n",
      "24580  2024   37   0.338  295.21   62.50    4.30   33.41   Kiev\n",
      "24581  2024   38   0.320  293.34   63.51    3.81   33.66   Kiev\n",
      "24582  2024   39   0.301  291.33   63.94    4.37   34.16   Kiev\n",
      "24583  2024   40   0.282  289.31   65.05    6.16   35.61   Kiev\n",
      "24584  2024   41   0.262  287.17   66.64    9.11   37.87   Kiev\n",
      "24585  2024   42   0.238  285.09   67.47    8.24   37.85   Kiev\n",
      "24586  2024   43   0.214  283.01   67.39    7.97   37.68   Kiev\n",
      "24587  2024   44   0.190  280.67   66.19    5.73   35.96   Kiev\n",
      "24588  2024   45   0.169  278.88   66.56    5.03   35.80   Kiev\n",
      "24589  2024   46   0.145  276.40   64.13    7.91   36.02   Kiev\n",
      "24590  2024   47   0.123  273.57   60.93   13.79   37.36   Kiev\n",
      "24591  2024   48   0.104  270.28   54.76   25.04   39.90   Kiev\n",
      "24592  2024   49   0.091  268.05   49.12   29.95   39.53   Kiev\n",
      "24593  2024   50   0.083  266.38   47.79   31.17   39.48   Kiev\n",
      "24594  2024   51   0.077  265.11   47.37   29.80   38.58   Kiev\n",
      "24595  2024   52   0.078  265.66   52.23   24.26   38.23   Kiev\n"
     ]
    }
   ],
   "execution_count": 12
  },
  {
   "metadata": {},
   "cell_type": "markdown",
   "source": [
    "o Пошук екстремумів (min та max) для вказаних областей та років,\n",
    "середнього, медіани;"
   ],
   "id": "26798ea0cba7834e"
  },
  {
   "metadata": {
    "ExecuteTime": {
     "end_time": "2025-03-13T21:30:06.933402Z",
     "start_time": "2025-03-13T21:30:06.928988Z"
    }
   },
   "cell_type": "code",
   "source": [
    "def find_values(data, region, year1, year2):\n",
    "    data_line = data[(data[\"Region\"] == region) & (data[\"Year\"].between(year1, year2))].copy()\n",
    "    data_line['VHI'] = data_line['VHI'].astype(float)\n",
    "\n",
    "    min_v = data_line['VHI'].min()\n",
    "    max_v = data_line['VHI'].max()\n",
    "    average = data_line['VHI'].mean()\n",
    "    median = data_line['VHI'].median()\n",
    "\n",
    "    return min_v, max_v, round(average, 2), round(median, 2)"
   ],
   "id": "4d63ee27929bc343",
   "outputs": [],
   "execution_count": 163
  },
  {
   "metadata": {
    "ExecuteTime": {
     "end_time": "2025-03-13T21:30:08.545484Z",
     "start_time": "2025-03-13T21:30:08.531145Z"
    }
   },
   "cell_type": "code",
   "source": [
    "minimum, maximum, average, medians = find_values(vhi_data, 'Poltava', 2017, 2018)\n",
    "print(f\"Мінімальне VHI: {minimum},\\n Максимальне VHI: {maximum},\\n Середнє VHI: {average},\\n Медіана VHI: {medians}\\n\")\n",
    "minimum, maximum, average, medians = find_values(vhi_data, 'Kiev', 2017, 2018)\n",
    "print(f\"Мінімальне VHI: {minimum},\\n Максимальне VHI: {maximum},\\n Середнє VHI: {average},\\n Медіана VHI: {medians}\")"
   ],
   "id": "3c5c07793b5e72bd",
   "outputs": [
    {
     "name": "stdout",
     "output_type": "stream",
     "text": [
      "Мінімальне VHI: 30.43,\n",
      " Максимальне VHI: 70.41,\n",
      " Середнє VHI: 45.68,\n",
      " Медіана VHI: 42.65\n",
      "\n",
      "Мінімальне VHI: 31.95,\n",
      " Максимальне VHI: 65.38,\n",
      " Середнє VHI: 45.89,\n",
      " Медіана VHI: 43.94\n"
     ]
    }
   ],
   "execution_count": 164
  },
  {
   "metadata": {},
   "cell_type": "markdown",
   "source": "o Ряд VHI за вказаний діапазон років для вказаних областей;",
   "id": "20e420d67c77b099"
  },
  {
   "metadata": {
    "ExecuteTime": {
     "end_time": "2025-03-14T11:01:19.394521Z",
     "start_time": "2025-03-14T11:01:19.383421Z"
    }
   },
   "cell_type": "code",
   "source": [
    "def find_values(data, regions, years):\n",
    "    data_line = data[(data['Region'].isin(regions)) & (data['Year'].isin(years))]\n",
    "    return data_line[['Year', 'Region', 'VHI']]\n",
    "\n",
    "print(find_values(vhi_data, ['Kiev City', 'Chernihiv'], [2015, 2022]))"
   ],
   "id": "756efa7ab5b62939",
   "outputs": [
    {
     "name": "stdout",
     "output_type": "stream",
     "text": [
      "       Year     Region     VHI\n",
      "3952   2015  Chernihiv   50.69\n",
      "3953   2015  Chernihiv   50.77\n",
      "3954   2015  Chernihiv   48.43\n",
      "3955   2015  Chernihiv   47.89\n",
      "3956   2015  Chernihiv   47.91\n",
      "...     ...        ...     ...\n",
      "26723  2022  Kiev City   40.12\n",
      "26724  2022  Kiev City   42.05\n",
      "26725  2022  Kiev City   41.30\n",
      "26726  2022  Kiev City   39.95\n",
      "26727  2022  Kiev City   38.27\n",
      "\n",
      "[208 rows x 3 columns]\n"
     ]
    }
   ],
   "execution_count": 17
  },
  {
   "metadata": {},
   "cell_type": "markdown",
   "source": [
    "o Для всього набору даних виявити роки, протягом яких екстремальні\n",
    "посухи торкнулися більше вказаного відсотка областей по Україні (20%\n",
    "областей - 5 областей з 25). Повернути роки, назви областей з\n",
    "екстремальними посухами та значення VHI;"
   ],
   "id": "c11a65427d69a38f"
  },
  {
   "metadata": {
    "ExecuteTime": {
     "end_time": "2025-03-14T11:15:04.332232Z",
     "start_time": "2025-03-14T11:15:04.252438Z"
    }
   },
   "cell_type": "code",
   "source": [
    "def drought_by_percent(data, percent):\n",
    "    data_line = data.copy()\n",
    "    data_line['VHI'] = pd.to_numeric(data_line['VHI'], errors='coerce')\n",
    "    all_regions = data_line['Region'].nunique()\n",
    "    drought_years = []\n",
    "\n",
    "    for year in range(data_line['Year'].min(), data_line['Year'].max() + 1):\n",
    "        affected_data = data_line[(data_line['Year'] == year) & (data_line['VHI'] <= 15) & (data_line['VHI'] != -1)]\n",
    "        affected_regions = affected_data['Region'].nunique()\n",
    "\n",
    "        if affected_regions > all_regions * (percent / 100):\n",
    "            drought_years.append(year)\n",
    "            print(f\"Drought year: {year}\")\n",
    "            print(affected_data[['Year', 'Region', 'VHI']])\n",
    "\n",
    "\n",
    "drought_by_percent(vhi_data, 15)"
   ],
   "id": "ce38c4212faaa716",
   "outputs": [
    {
     "name": "stdout",
     "output_type": "stream",
     "text": [
      "Drought year: 2000\n",
      "       Year       Region    VHI\n",
      "979    2000     Cherkasy  14.64\n",
      "980    2000     Cherkasy  11.82\n",
      "981    2000     Cherkasy  10.81\n",
      "982    2000     Cherkasy  10.68\n",
      "983    2000     Cherkasy  12.30\n",
      "984    2000     Cherkasy  14.24\n",
      "16633  2000      Kharkiv  14.61\n",
      "16634  2000      Kharkiv  11.33\n",
      "16635  2000      Kharkiv   9.36\n",
      "16636  2000      Kharkiv   9.45\n",
      "16637  2000      Kharkiv   9.73\n",
      "16638  2000      Kharkiv  11.45\n",
      "16639  2000      Kharkiv  14.29\n",
      "23339  2000         Kiev  12.51\n",
      "23340  2000         Kiev  10.60\n",
      "23341  2000         Kiev  11.20\n",
      "23342  2000         Kiev  12.32\n",
      "23343  2000         Kiev  14.65\n",
      "25573  2000    Kiev City  14.89\n",
      "25574  2000    Kiev City  12.76\n",
      "25575  2000    Kiev City   7.81\n",
      "25576  2000    Kiev City   6.49\n",
      "25577  2000    Kiev City   6.58\n",
      "25578  2000    Kiev City   6.71\n",
      "25579  2000    Kiev City   7.56\n",
      "25580  2000    Kiev City   9.25\n",
      "25581  2000    Kiev City  10.94\n",
      "25582  2000    Kiev City  12.28\n",
      "43464  2000  Sevastopol'  13.14\n",
      "43465  2000  Sevastopol'   9.50\n",
      "43466  2000  Sevastopol'   8.14\n",
      "43467  2000  Sevastopol'   9.69\n",
      "43468  2000  Sevastopol'  11.20\n",
      "43469  2000  Sevastopol'  11.36\n",
      "43470  2000  Sevastopol'  12.77\n",
      "52408  2000    Vinnytsya  12.26\n",
      "52409  2000    Vinnytsya  11.28\n",
      "52410  2000    Vinnytsya  11.25\n",
      "52411  2000    Vinnytsya  11.38\n",
      "52412  2000    Vinnytsya  12.91\n",
      "52413  2000    Vinnytsya  14.20\n",
      "Drought year: 2007\n",
      "       Year        Region    VHI\n",
      "8037   2007        Crimea  14.98\n",
      "8038   2007        Crimea  14.23\n",
      "8039   2007        Crimea  13.79\n",
      "8040   2007        Crimea  13.41\n",
      "8041   2007        Crimea  13.28\n",
      "8042   2007        Crimea  14.36\n",
      "19210  2007       Kherson  12.41\n",
      "19211  2007       Kherson  12.23\n",
      "19212  2007       Kherson  12.99\n",
      "19213  2007       Kherson  13.33\n",
      "19214  2007       Kherson  12.88\n",
      "19215  2007       Kherson  12.63\n",
      "19216  2007       Kherson  12.96\n",
      "19217  2007       Kherson  13.48\n",
      "19218  2007       Kherson  14.05\n",
      "19219  2007       Kherson  14.41\n",
      "19220  2007       Kherson  14.81\n",
      "34861  2007     Mykolayiv  11.44\n",
      "34862  2007     Mykolayiv   7.78\n",
      "34863  2007     Mykolayiv   6.44\n",
      "34864  2007     Mykolayiv   6.12\n",
      "34865  2007     Mykolayiv   6.11\n",
      "34866  2007     Mykolayiv   5.94\n",
      "34867  2007     Mykolayiv   6.36\n",
      "34868  2007     Mykolayiv   7.61\n",
      "34869  2007     Mykolayiv   9.45\n",
      "34870  2007     Mykolayiv  11.70\n",
      "37100  2007        Odessa  11.88\n",
      "37101  2007        Odessa   9.21\n",
      "37102  2007        Odessa   7.08\n",
      "37103  2007        Odessa   5.90\n",
      "37104  2007        Odessa   5.52\n",
      "37105  2007        Odessa   5.85\n",
      "37106  2007        Odessa   6.82\n",
      "37107  2007        Odessa   8.86\n",
      "37108  2007        Odessa  11.91\n",
      "57226  2007  Zaporizhzhya  14.26\n",
      "57227  2007  Zaporizhzhya  13.39\n",
      "57228  2007  Zaporizhzhya  13.33\n",
      "57229  2007  Zaporizhzhya  13.06\n",
      "57230  2007  Zaporizhzhya  13.13\n",
      "57231  2007  Zaporizhzhya  12.51\n",
      "57232  2007  Zaporizhzhya  11.55\n",
      "57233  2007  Zaporizhzhya  10.88\n",
      "57234  2007  Zaporizhzhya  11.06\n",
      "57235  2007  Zaporizhzhya  12.05\n",
      "57236  2007  Zaporizhzhya  13.84\n"
     ]
    }
   ],
   "execution_count": 28
  }
 ],
 "metadata": {
  "kernelspec": {
   "display_name": "Python 3",
   "language": "python",
   "name": "python3"
  },
  "language_info": {
   "codemirror_mode": {
    "name": "ipython",
    "version": 2
   },
   "file_extension": ".py",
   "mimetype": "text/x-python",
   "name": "python",
   "nbconvert_exporter": "python",
   "pygments_lexer": "ipython2",
   "version": "2.7.6"
  }
 },
 "nbformat": 4,
 "nbformat_minor": 5
}
